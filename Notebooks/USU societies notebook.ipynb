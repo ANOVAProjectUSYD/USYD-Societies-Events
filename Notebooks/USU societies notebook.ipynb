{
 "cells": [
  {
   "cell_type": "code",
   "execution_count": 2,
   "metadata": {
    "collapsed": true
   },
   "outputs": [],
   "source": [
    "import pandas as pd \n",
    "import numpy as np\n",
    "import scipy\n",
    "import sklearn \n",
    "from sklearn import linear_model\n",
    "import datetime\n",
    "import datetime as datetime\n",
    "import time"
   ]
  },
  {
   "cell_type": "code",
   "execution_count": 102,
   "metadata": {},
   "outputs": [
    {
     "data": {
      "text/plain": [
       "1149"
      ]
     },
     "execution_count": 102,
     "metadata": {},
     "output_type": "execute_result"
    }
   ],
   "source": [
    "df = pd.read_csv('final_data_edited.csv') #This file name is slightly different from the one in Chris' notebook, this may be the reason it isn't working!\n",
    "len(df)"
   ]
  },
  {
   "cell_type": "code",
   "execution_count": 4,
   "metadata": {
    "collapsed": true
   },
   "outputs": [],
   "source": [
    "# we ommit maybe_count because it turns out it is exactly the same as interested_count\\n\",\n",
    "X1 = df[['interested_count','no_reply_count','society_size','total_invited_count']]\n",
    "y1 = df[['attendance_count']]"
   ]
  },
  {
   "cell_type": "markdown",
   "metadata": {},
   "source": [
    "# Linear Regression"
   ]
  },
  {
   "cell_type": "code",
   "execution_count": 5,
   "metadata": {},
   "outputs": [
    {
     "name": "stderr",
     "output_type": "stream",
     "text": [
      "/anaconda3/lib/python3.6/site-packages/statsmodels/compat/pandas.py:56: FutureWarning: The pandas.core.datetools module is deprecated and will be removed in a future version. Please use the pandas.tseries module instead.\n",
      "  from pandas.core import datetools\n"
     ]
    },
    {
     "name": "stdout",
     "output_type": "stream",
     "text": [
      "                            OLS Regression Results                            \n",
      "==============================================================================\n",
      "Dep. Variable:       attendance_count   R-squared:                       1.000\n",
      "Model:                            OLS   Adj. R-squared:                  1.000\n",
      "Method:                 Least Squares   F-statistic:                 7.933e+31\n",
      "Date:                Thu, 08 Mar 2018   Prob (F-statistic):               0.00\n",
      "Time:                        20:51:58   Log-Likelihood:                 31417.\n",
      "No. Observations:                1149   AIC:                        -6.283e+04\n",
      "Df Residuals:                    1145   BIC:                        -6.281e+04\n",
      "Df Model:                           4                                         \n",
      "Covariance Type:            nonrobust                                         \n",
      "=======================================================================================\n",
      "                          coef    std err          t      P>|t|      [0.025      0.975]\n",
      "---------------------------------------------------------------------------------------\n",
      "interested_count       -2.0000   2.34e-16  -8.56e+15      0.000      -2.000      -2.000\n",
      "no_reply_count         -1.0000   1.17e-16  -8.52e+15      0.000      -1.000      -1.000\n",
      "society_size         6.159e-17   3.15e-18     19.528      0.000    5.54e-17    6.78e-17\n",
      "total_invited_count     1.0000   9.61e-17   1.04e+16      0.000       1.000       1.000\n",
      "==============================================================================\n",
      "Omnibus:                     1388.811   Durbin-Watson:                   1.602\n",
      "Prob(Omnibus):                  0.000   Jarque-Bera (JB):           160151.803\n",
      "Skew:                           6.187   Prob(JB):                         0.00\n",
      "Kurtosis:                      59.499   Cond. No.                         110.\n",
      "==============================================================================\n",
      "\n",
      "Warnings:\n",
      "[1] Standard Errors assume that the covariance matrix of the errors is correctly specified.\n"
     ]
    }
   ],
   "source": [
    "import statsmodels.api as sm #using statsmodels as opposed to sklearn due to regression output\n",
    "    \n",
    "model1 = sm.OLS(y1, X1)\n",
    "results1 = model1.fit()\n",
    "print(results1.summary())"
   ]
  },
  {
   "cell_type": "markdown",
   "metadata": {},
   "source": [
    "### What does this mean? ,\n",
    "Our model has estimated that there is a negative relationship (which is statistically significant) between the number of interested students and those that attend the events. This is somehwhat counter-intuitive, we have found that we would expect event attendance to *decrease* rather than increase as more people click interested.\n",
    "\n",
    "We have also found that there is a positive relationship between total invites and event attendance, aswell as a negative relationship between how many people do not reply and event attendance. These however are fairly intuitive conclusions.\n"
   ]
  },
  {
   "cell_type": "markdown",
   "metadata": {},
   "source": [
    "### Can we explain our results?\n",
    "Let's assume that the only people who could potentially come to these events are the ones invited on Facebook. So for each event, we have some part of the student body that is 'eligible' to come to these events. Within that body there are 2 subsets of people, those who are 'favourable' to the event, and those who aren't. Those who aren't are the no-replyers, they do not really ever consider going whereas the 'favourable' group is comprised of people who click attending and interested -- these are the people that who are actually thinking about going to these events. You can only choose to click either going or interested in an event on Facebook, and so it is sort of like a zero sum game -- the more interested people in this subgroup, the less can be 'going' and vice versa.\n",
    "\n",
    "### What can we draw from this?\n",
    "**NEED TO ADD HERE**"
   ]
  },
  {
   "cell_type": "markdown",
   "metadata": {},
   "source": [
    "# Clustering"
   ]
  },
  {
   "cell_type": "code",
   "execution_count": 6,
   "metadata": {},
   "outputs": [
    {
     "data": {
      "image/png": "[encoded data removed]",
      "text/plain": [
       "<matplotlib.figure.Figure at 0x10e177a58>"
      ]
     },
     "metadata": {},
     "output_type": "display_data"
    }
   ],
   "source": [
    "import matplotlib.pyplot as plt\n",
    "import matplotlib.image as mpimg\n",
    "img=mpimg.imread('Small map.png')\n",
    "imgplot = plt.imshow(img)\n",
    "plt.show()"
   ]
  },
  {
   "cell_type": "markdown",
   "metadata": {},
   "source": [
    "We can use clustering now to understand whether or not holding events on/off campus has effects on event attendance. What we have done here is seperate the data into two groups, those events that are held on campus and those that aren't. We will then run through a similar process as above to determine whether geographical location has some significant effect on group attendance."
   ]
  },
  {
   "cell_type": "code",
   "execution_count": 7,
   "metadata": {},
   "outputs": [
    {
     "name": "stderr",
     "output_type": "stream",
     "text": [
      "/anaconda3/lib/python3.6/site-packages/ipykernel_launcher.py:3: SettingWithCopyWarning: \n",
      "A value is trying to be set on a copy of a slice from a DataFrame.\n",
      "Try using .loc[row_indexer,col_indexer] = value instead\n",
      "\n",
      "See the caveats in the documentation: http://pandas.pydata.org/pandas-docs/stable/indexing.html#indexing-view-versus-copy\n",
      "  This is separate from the ipykernel package so we can avoid doing imports until\n"
     ]
    }
   ],
   "source": [
    "zipdf = df.dropna(subset=['zip'], how='any') #dropping rows with no postcode\n",
    "CampClass = np.where(zipdf['zip'] == 2006,1 ,0) #Creating an indicator vector\n",
    "zipdf['Campus'] = CampClass #adding to existing dataframe\""
   ]
  },
  {
   "cell_type": "code",
   "execution_count": 8,
   "metadata": {},
   "outputs": [
    {
     "name": "stdout",
     "output_type": "stream",
     "text": [
      "                            OLS Regression Results                            \n",
      "==============================================================================\n",
      "Dep. Variable:       attendance_count   R-squared:                       1.000\n",
      "Model:                            OLS   Adj. R-squared:                  1.000\n",
      "Method:                 Least Squares   F-statistic:                 5.477e+31\n",
      "Date:                Thu, 08 Mar 2018   Prob (F-statistic):               0.00\n",
      "Time:                        20:51:59   Log-Likelihood:                 17448.\n",
      "No. Observations:                 638   AIC:                        -3.489e+04\n",
      "Df Residuals:                     633   BIC:                        -3.486e+04\n",
      "Df Model:                           5                                         \n",
      "Covariance Type:            nonrobust                                         \n",
      "=======================================================================================\n",
      "                          coef    std err          t      P>|t|      [0.025      0.975]\n",
      "---------------------------------------------------------------------------------------\n",
      "interested_count       -2.0000   2.51e-16  -7.98e+15      0.000      -2.000      -2.000\n",
      "no_reply_count         -1.0000   1.28e-16  -7.82e+15      0.000      -1.000      -1.000\n",
      "society_size         6.939e-17   5.08e-18     13.667      0.000    5.94e-17    7.94e-17\n",
      "total_invited_count     1.0000   1.04e-16   9.63e+15      0.000       1.000       1.000\n",
      "Campus               1.066e-14   2.52e-14      0.423      0.673   -3.88e-14    6.01e-14\n",
      "==============================================================================\n",
      "Omnibus:                      658.078   Durbin-Watson:                   1.458\n",
      "Prob(Omnibus):                  0.000   Jarque-Bera (JB):            31235.058\n",
      "Skew:                           4.768   Prob(JB):                         0.00\n",
      "Kurtosis:                      35.925   Cond. No.                     7.25e+03\n",
      "==============================================================================\n",
      "\n",
      "Warnings:\n",
      "[1] Standard Errors assume that the covariance matrix of the errors is correctly specified.\n",
      "[2] The condition number is large, 7.25e+03. This might indicate that there are\n",
      "strong multicollinearity or other numerical problems.\n"
     ]
    }
   ],
   "source": [
    "X2 = zipdf[['interested_count','no_reply_count','society_size','total_invited_count', 'Campus']]\n",
    "y2 = zipdf[['attendance_count']]\n",
    "    \n",
    "model2 = sm.OLS(y2, X2)\n",
    "results2 = model2.fit()\n",
    "print(results2.summary())"
   ]
  },
  {
   "cell_type": "code",
   "execution_count": 9,
   "metadata": {
    "collapsed": true
   },
   "outputs": [],
   "source": [
    "zipdf.to_csv('campus_data.csv')"
   ]
  },
  {
   "cell_type": "code",
   "execution_count": 10,
   "metadata": {},
   "outputs": [
    {
     "data": {
      "image/png": "[encoded data removed]",
      "text/plain": [
       "<matplotlib.figure.Figure at 0x1c1fd95860>"
      ]
     },
     "metadata": {},
     "output_type": "display_data"
    }
   ],
   "source": [
    "import matplotlib.pyplot as plt\n",
    "plt.hist(df['attendance_count'], bins='sqrt')  # bin choice via sqrt(n) provides something easy to understand visually\n",
    "plt.title(\"How are attendance counts distributed?\")\n",
    "plt.show()"
   ]
  },
  {
   "cell_type": "markdown",
   "metadata": {},
   "source": [
    "| Size  | Frequency   |  \n",
    "|-------|-------------|\n",
    "|0-86   |     422     |  \n",
    "|       |             |\n",
    "|87-172 |     107     |\n",
    "|       |             |\n",
    "|173-258|     38      |\n",
    "|       |             |\n",
    "|259-334|     27      | \n",
    "|       |             |\n",
    "\n",
    "Here, we have listed the frequencies of events that fit into the specific categories that          are arranged by size.\\n\","
   ]
  },
  {
   "cell_type": "markdown",
   "metadata": {},
   "source": [
    "### What have we found?\n",
    "These results suggest that there is a small but statistically significant effect that stems from holding events on campus. Our model is telling us that events held on campus tend to have a *lower* average attendance than those that are not.\n",
    "\n",
    "The results seem to suggest that students do not prefer the convenience of on-campus events. Maybe the fact that the events *are* so **accesible** makes them a little less desireable, maybe people like to dress up, maybe people hate Manning Bar -- whatever it is it seems to be the case that off-campus events attract at least a few more people than the on-campus options. \n",
    "\n",
    "Note though, that a vast majority of events that are held by societies are relativley small. Most of our observations lie within that 0-86 individual attendance range. In other words, smaller events may exhibit different characterisitcs, and these effects may be a little different. In our next model we have controlled for this by only including data from the smallest bracket (0-86)."
   ]
  },
  {
   "cell_type": "code",
   "execution_count": 11,
   "metadata": {},
   "outputs": [
    {
     "name": "stdout",
     "output_type": "stream",
     "text": [
      "                            OLS Regression Results                            \n",
      "==============================================================================\n",
      "Dep. Variable:       attendance_count   R-squared:                       1.000\n",
      "Model:                            OLS   Adj. R-squared:                  1.000\n",
      "Method:                 Least Squares   F-statistic:                 3.639e+29\n",
      "Date:                Thu, 08 Mar 2018   Prob (F-statistic):               0.00\n",
      "Time:                        20:51:59   Log-Likelihood:                 11285.\n",
      "No. Observations:                 422   AIC:                        -2.256e+04\n",
      "Df Residuals:                     417   BIC:                        -2.254e+04\n",
      "Df Model:                           5                                         \n",
      "Covariance Type:            nonrobust                                         \n",
      "=======================================================================================\n",
      "                          coef    std err          t      P>|t|      [0.025      0.975]\n",
      "---------------------------------------------------------------------------------------\n",
      "interested_count       -2.0000    3.2e-15  -6.25e+14      0.000      -2.000      -2.000\n",
      "no_reply_count         -1.0000   1.55e-15  -6.47e+14      0.000      -1.000      -1.000\n",
      "society_size        -1.596e-16   1.39e-17    -11.491      0.000   -1.87e-16   -1.32e-16\n",
      "total_invited_count     1.0000   1.43e-15   6.98e+14      0.000       1.000       1.000\n",
      "Campus              -2.665e-15   5.49e-14     -0.049      0.961   -1.11e-13    1.05e-13\n",
      "==============================================================================\n",
      "Omnibus:                       27.806   Durbin-Watson:                   0.209\n",
      "Prob(Omnibus):                  0.000   Jarque-Bera (JB):               71.414\n",
      "Skew:                           0.283   Prob(JB):                     3.11e-16\n",
      "Kurtosis:                       4.934   Cond. No.                     6.62e+03\n",
      "==============================================================================\n",
      "\n",
      "Warnings:\n",
      "[1] Standard Errors assume that the covariance matrix of the errors is correctly specified.\n",
      "[2] The condition number is large, 6.62e+03. This might indicate that there are\n",
      "strong multicollinearity or other numerical problems.\n"
     ]
    },
    {
     "name": "stderr",
     "output_type": "stream",
     "text": [
      "/anaconda3/lib/python3.6/site-packages/ipykernel_launcher.py:1: UserWarning: Boolean Series key will be reindexed to match DataFrame index.\n",
      "  \"\"\"Entry point for launching an IPython kernel.\n"
     ]
    }
   ],
   "source": [
    "small_df = zipdf[df.attendance_count < 87]\n",
    "\n",
    "X2 = small_df[['interested_count','no_reply_count','society_size','total_invited_count','Campus']]\n",
    "y2 = small_df[['attendance_count']]\n",
    "\n",
    "model2 = sm.OLS(y2, X2)\n",
    "results2 = model2.fit()\n",
    "print(results2.summary())"
   ]
  },
  {
   "cell_type": "markdown",
   "metadata": {},
   "source": [
    "### What have we found?\n",
    "If you're hosting a *small* event, there is no (statistical) difference between hosting the event on campus or off it. In short, if you're hosting something big, avoid spending time on campus, but if it's something small it could be worth keeping it local."
   ]
  },
  {
   "cell_type": "markdown",
   "metadata": {
    "collapsed": true
   },
   "source": [
    "# Natural Language Processing (NLP)"
   ]
  },
  {
   "cell_type": "code",
   "execution_count": 12,
   "metadata": {
    "collapsed": true
   },
   "outputs": [],
   "source": [
    "SoldClass=np.zeros((len(df),1)) #creating indicator arrays\n",
    "LimitClass=np.zeros((len(df),1))"
   ]
  },
  {
   "cell_type": "code",
   "execution_count": 13,
   "metadata": {
    "collapsed": true
   },
   "outputs": [],
   "source": [
    "for event in range(1, len(df)): #Looping through dataframe making sure we account for case sensitivity \n",
    "    if 'SOLD OUT' in df.loc[event,'description'] or 'Sold Out' in df.loc[event,'description'] or 'sold out' in df.loc[event,'description'] :\n",
    "        SoldClass[event] = 1"
   ]
  },
  {
   "cell_type": "code",
   "execution_count": 14,
   "metadata": {
    "collapsed": true
   },
   "outputs": [],
   "source": [
    "for event in range(1, len(df)): #Looping through dataframe making sure we account for case sensitivity \n",
    "    if 'LIMIT' in df.loc[event,'description'] or 'Limit' in df.loc[event,'description'] or 'limit' in df.loc[event,'description'] :\n",
    "        LimitClass[event] = 1\n",
    "        "
   ]
  },
  {
   "cell_type": "code",
   "execution_count": 15,
   "metadata": {
    "collapsed": true
   },
   "outputs": [],
   "source": [
    "SoldClass = pd.DataFrame(SoldClass, columns=['Sold_Out']) #Turning arrays into dataframes so we can append\n",
    "LimitClass = pd.DataFrame(LimitClass, columns=['Limit'])\n",
    "df_NLP = pd.concat([SoldClass, LimitClass], axis=1) #important to set axis=1 so we concatenate horizontally"
   ]
  },
  {
   "cell_type": "code",
   "execution_count": 16,
   "metadata": {
    "collapsed": true
   },
   "outputs": [],
   "source": [
    "df = pd.concat([df,df_NLP], axis=1)"
   ]
  },
  {
   "cell_type": "markdown",
   "metadata": {},
   "source": [
    "## Accessibility/Exclusivity\n",
    "\n",
    "Earlier, we brought up the accessibility of events as a potential driver/inhibitor of event attendance, and so we want to explore this further. Using Python, we were able to trawl through the descriptions of all the events we had data for. We then 'tagged' those events which included the words 'Sold Out' and 'Limit' in order to shed some light on whether the accesbility of events (not in terms of geography, but in terms of exclusivity') have some affect on attendance."
   ]
  },
  {
   "cell_type": "code",
   "execution_count": 17,
   "metadata": {},
   "outputs": [
    {
     "name": "stdout",
     "output_type": "stream",
     "text": [
      "                            OLS Regression Results                            \n",
      "==============================================================================\n",
      "Dep. Variable:       attendance_count   R-squared:                       1.000\n",
      "Model:                            OLS   Adj. R-squared:                  1.000\n",
      "Method:                 Least Squares   F-statistic:                 8.248e+30\n",
      "Date:                Thu, 08 Mar 2018   Prob (F-statistic):               0.00\n",
      "Time:                        20:51:59   Log-Likelihood:                 30350.\n",
      "No. Observations:                1149   AIC:                        -6.069e+04\n",
      "Df Residuals:                    1143   BIC:                        -6.066e+04\n",
      "Df Model:                           6                                         \n",
      "Covariance Type:            nonrobust                                         \n",
      "=======================================================================================\n",
      "                          coef    std err          t      P>|t|      [0.025      0.975]\n",
      "---------------------------------------------------------------------------------------\n",
      "interested_count       -2.0000   5.92e-16  -3.38e+15      0.000      -2.000      -2.000\n",
      "no_reply_count         -1.0000   2.98e-16  -3.36e+15      0.000      -1.000      -1.000\n",
      "society_size         8.342e-17   8.22e-18     10.147      0.000    6.73e-17    9.95e-17\n",
      "total_invited_count     1.0000   2.44e-16    4.1e+15      0.000       1.000       1.000\n",
      "Sold_Out             4.617e-14   1.62e-13      0.285      0.776   -2.72e-13    3.64e-13\n",
      "Limit                1.868e-14   7.45e-14      0.251      0.802   -1.28e-13    1.65e-13\n",
      "==============================================================================\n",
      "Omnibus:                     1298.275   Durbin-Watson:                   0.829\n",
      "Prob(Omnibus):                  0.000   Jarque-Bera (JB):           105226.090\n",
      "Skew:                          -5.623   Prob(JB):                         0.00\n",
      "Kurtosis:                      48.513   Cond. No.                     2.58e+04\n",
      "==============================================================================\n",
      "\n",
      "Warnings:\n",
      "[1] Standard Errors assume that the covariance matrix of the errors is correctly specified.\n",
      "[2] The condition number is large, 2.58e+04. This might indicate that there are\n",
      "strong multicollinearity or other numerical problems.\n"
     ]
    }
   ],
   "source": [
    "X3 = df[['interested_count','no_reply_count','society_size','total_invited_count','Sold_Out','Limit']]\n",
    "y3 = df[['attendance_count']]\n",
    "\n",
    "model3 = sm.OLS(y3, X3)\n",
    "results3 = model3.fit()\n",
    "print(results3.summary())"
   ]
  },
  {
   "cell_type": "code",
   "execution_count": 18,
   "metadata": {},
   "outputs": [
    {
     "name": "stdout",
     "output_type": "stream",
     "text": [
      "                            OLS Regression Results                            \n",
      "==============================================================================\n",
      "Dep. Variable:       attendance_count   R-squared:                       1.000\n",
      "Model:                            OLS   Adj. R-squared:                  1.000\n",
      "Method:                 Least Squares   F-statistic:                 5.355e+31\n",
      "Date:                Thu, 08 Mar 2018   Prob (F-statistic):               0.00\n",
      "Time:                        20:51:59   Log-Likelihood:                 31320.\n",
      "No. Observations:                1149   AIC:                        -6.263e+04\n",
      "Df Residuals:                    1144   BIC:                        -6.260e+04\n",
      "Df Model:                           5                                         \n",
      "Covariance Type:            nonrobust                                         \n",
      "=======================================================================================\n",
      "                          coef    std err          t      P>|t|      [0.025      0.975]\n",
      "---------------------------------------------------------------------------------------\n",
      "interested_count       -2.0000   2.54e-16  -7.86e+15      0.000      -2.000      -2.000\n",
      "no_reply_count         -1.0000   1.28e-16  -7.82e+15      0.000      -1.000      -1.000\n",
      "society_size         7.796e-17   3.44e-18     22.694      0.000    7.12e-17    8.47e-17\n",
      "total_invited_count     1.0000   1.05e-16   9.55e+15      0.000       1.000       1.000\n",
      "Sold_Out            -3.152e-14   6.93e-14     -0.455      0.649   -1.68e-13    1.05e-13\n",
      "==============================================================================\n",
      "Omnibus:                      730.027   Durbin-Watson:                   0.132\n",
      "Prob(Omnibus):                  0.000   Jarque-Bera (JB):            12401.795\n",
      "Skew:                          -2.643   Prob(JB):                         0.00\n",
      "Kurtosis:                      18.202   Cond. No.                     2.56e+04\n",
      "==============================================================================\n",
      "\n",
      "Warnings:\n",
      "[1] Standard Errors assume that the covariance matrix of the errors is correctly specified.\n",
      "[2] The condition number is large, 2.56e+04. This might indicate that there are\n",
      "strong multicollinearity or other numerical problems.\n"
     ]
    }
   ],
   "source": [
    "X4 = df[['interested_count','no_reply_count','society_size','total_invited_count','Sold_Out']]\n",
    "y4 = df[['attendance_count']]\n",
    "\n",
    "model4 = sm.OLS(y4, X4)\n",
    "results4 = model4.fit()\n",
    "print(results4.summary())"
   ]
  },
  {
   "cell_type": "code",
   "execution_count": 19,
   "metadata": {},
   "outputs": [
    {
     "name": "stdout",
     "output_type": "stream",
     "text": [
      "                            OLS Regression Results                            \n",
      "==============================================================================\n",
      "Dep. Variable:       attendance_count   R-squared:                       1.000\n",
      "Model:                            OLS   Adj. R-squared:                  1.000\n",
      "Method:                 Least Squares   F-statistic:                 1.524e+32\n",
      "Date:                Thu, 08 Mar 2018   Prob (F-statistic):               0.00\n",
      "Time:                        20:52:00   Log-Likelihood:                 31921.\n",
      "No. Observations:                1149   AIC:                        -6.383e+04\n",
      "Df Residuals:                    1144   BIC:                        -6.381e+04\n",
      "Df Model:                           5                                         \n",
      "Covariance Type:            nonrobust                                         \n",
      "=======================================================================================\n",
      "                          coef    std err          t      P>|t|      [0.025      0.975]\n",
      "---------------------------------------------------------------------------------------\n",
      "interested_count       -2.0000   1.51e-16  -1.32e+16      0.000      -2.000      -2.000\n",
      "no_reply_count         -1.0000   7.58e-17  -1.32e+16      0.000      -1.000      -1.000\n",
      "society_size        -4.274e-17    2.1e-18    -20.398      0.000   -4.68e-17   -3.86e-17\n",
      "total_invited_count     1.0000   6.21e-17   1.61e+16      0.000       1.000       1.000\n",
      "Limit                5.131e-15   1.89e-14      0.272      0.786   -3.19e-14    4.22e-14\n",
      "==============================================================================\n",
      "Omnibus:                     1425.032   Durbin-Watson:                   1.449\n",
      "Prob(Omnibus):                  0.000   Jarque-Bera (JB):           264339.707\n",
      "Skew:                          -6.263   Prob(JB):                         0.00\n",
      "Kurtosis:                      76.243   Cond. No.                     1.18e+04\n",
      "==============================================================================\n",
      "\n",
      "Warnings:\n",
      "[1] Standard Errors assume that the covariance matrix of the errors is correctly specified.\n",
      "[2] The condition number is large, 1.18e+04. This might indicate that there are\n",
      "strong multicollinearity or other numerical problems.\n"
     ]
    }
   ],
   "source": [
    "X5 = df[['interested_count','no_reply_count','society_size','total_invited_count','Limit']]\n",
    "y5 = df[['attendance_count']]\n",
    "\n",
    "model5 = sm.OLS(y5, X5)\n",
    "results5 = model5.fit()\n",
    "print(results5.summary())"
   ]
  },
  {
   "cell_type": "markdown",
   "metadata": {},
   "source": [
    "### What have we found?\n",
    "\n",
    "There are *no* significant results when controlling for exclusivity in the data (we have even included slightly different models in order to confirm this). So, it seems there are no salient benefits of making an event more exclusive as opposed to hosting free events.\n",
    "\n"
   ]
  },
  {
   "cell_type": "markdown",
   "metadata": {},
   "source": [
    "# Start times"
   ]
  },
  {
   "cell_type": "code",
   "execution_count": 151,
   "metadata": {},
   "outputs": [],
   "source": [
    "times = df['Start_time']"
   ]
  },
  {
   "cell_type": "code",
   "execution_count": 152,
   "metadata": {},
   "outputs": [],
   "source": [
    "for i in range(0,len(df)):\n",
    "    if (times[i].endswith('+1100')) | (times[i].endswith('+1000')): \n",
    "        times[i] = times[i][:-5]\n",
    "\n",
    "for i in range(0,len(df)):\n",
    "    if times[i].endswith('+'):\n",
    "        times[i] = times[i][:-1]"
   ]
  },
  {
   "cell_type": "code",
   "execution_count": 115,
   "metadata": {
    "collapsed": true
   },
   "outputs": [],
   "source": [
    "from collections import Counter\n",
    "time_counts = Counter(times) #counting frequencies "
   ]
  },
  {
   "cell_type": "code",
   "execution_count": 139,
   "metadata": {
    "collapsed": true
   },
   "outputs": [],
   "source": [
    "Dict_times = time_counts.items()"
   ]
  },
  {
   "cell_type": "code",
   "execution_count": 147,
   "metadata": {
    "collapsed": true
   },
   "outputs": [],
   "source": [
    "times_null , freq_times = zip(*Dict_times) #'unzipping' the tuple -- seperating frequencies from times"
   ]
  },
  {
   "cell_type": "code",
   "execution_count": 161,
   "metadata": {},
   "outputs": [
    {
     "name": "stderr",
     "output_type": "stream",
     "text": [
      "/anaconda3/lib/python3.6/site-packages/ipykernel_launcher.py:3: SettingWithCopyWarning: \n",
      "A value is trying to be set on a copy of a slice from a DataFrame\n",
      "\n",
      "See the caveats in the documentation: http://pandas.pydata.org/pandas-docs/stable/indexing.html#indexing-view-versus-copy\n",
      "  This is separate from the ipykernel package so we can avoid doing imports until\n"
     ]
    }
   ],
   "source": [
    "for i in range(0,len(df)):\n",
    "    if (times[i].endswith('+1100')) | (times[i].endswith('+1000')) | (times[i].endswith('+0200')) | (times[i].endswith('+0800')) | (times[i].endswith('+0700')): \n",
    "        times[i] = times[i][:-5]\n",
    "\n",
    "for i in range(0,len(df)):\n",
    "    if times[i].endswith('+'):\n",
    "        times[i] = times[i][:-1]"
   ]
  },
  {
   "cell_type": "code",
   "execution_count": 165,
   "metadata": {},
   "outputs": [
    {
     "data": {
      "text/plain": [
       "51"
      ]
     },
     "execution_count": 165,
     "metadata": {},
     "output_type": "execute_result"
    }
   ],
   "source": [
    "Counter((times)).values() # counts the elements' frequency set(times)"
   ]
  },
  {
   "cell_type": "code",
   "execution_count": 180,
   "metadata": {},
   "outputs": [],
   "source": [
    "times_data = [(set(times)),(Counter((times)).values())]\n",
    "\n",
    "df_times = pd.DataFrame(times_data)\n",
    "df_times = df_times.T\n",
    "df_times.columns = ['Times', 'Frequency']\n"
   ]
  },
  {
   "cell_type": "code",
   "execution_count": 181,
   "metadata": {
    "collapsed": true
   },
   "outputs": [],
   "source": [
    "df_times_trimmed = df_times[df_times['Frequency'] > 25] #only frequencies > 25"
   ]
  },
  {
   "cell_type": "code",
   "execution_count": 182,
   "metadata": {},
   "outputs": [
    {
     "data": {
      "image/png": "[encoded data removed]",
      "text/plain": [
       "<matplotlib.figure.Figure at 0x1c206f4668>"
      ]
     },
     "metadata": {},
     "output_type": "display_data"
    }
   ],
   "source": [
    "trimmed_x = df_times_trimmed['Times']\n",
    "trimmed_y = df_times_trimmed['Frequency']\n",
    "\n",
    "plt.bar(trimmed_x,trimmed_y)\n",
    "plt.xticks(rotation=90)\n",
    "plt.show()"
   ]
  },
  {
   "cell_type": "markdown",
   "metadata": {},
   "source": [
    "# Days of the week"
   ]
  },
  {
   "cell_type": "code",
   "execution_count": 27,
   "metadata": {},
   "outputs": [
    {
     "ename": "ValueError",
     "evalue": "unconverted data remains: +1100",
     "output_type": "error",
     "traceback": [
      "\u001b[0;31m---------------------------------------------------------------------------\u001b[0m",
      "\u001b[0;31mValueError\u001b[0m                                Traceback (most recent call last)",
      "\u001b[0;32m<ipython-input-27-96d930a30058>\u001b[0m in \u001b[0;36m<module>\u001b[0;34m()\u001b[0m\n\u001b[1;32m     15\u001b[0m \u001b[0;34m\u001b[0m\u001b[0m\n\u001b[1;32m     16\u001b[0m \u001b[0;32mfor\u001b[0m \u001b[0mi\u001b[0m \u001b[0;32min\u001b[0m \u001b[0mrange\u001b[0m\u001b[0;34m(\u001b[0m\u001b[0;36m1\u001b[0m\u001b[0;34m,\u001b[0m\u001b[0mlen\u001b[0m\u001b[0;34m(\u001b[0m\u001b[0mdf\u001b[0m\u001b[0;34m)\u001b[0m\u001b[0;34m)\u001b[0m\u001b[0;34m:\u001b[0m\u001b[0;34m\u001b[0m\u001b[0m\n\u001b[0;32m---> 17\u001b[0;31m     \u001b[0;32mif\u001b[0m \u001b[0mupper_lim\u001b[0m \u001b[0;34m<\u001b[0m \u001b[0mdatetime\u001b[0m\u001b[0;34m.\u001b[0m\u001b[0mdatetime\u001b[0m\u001b[0;34m.\u001b[0m\u001b[0mstrptime\u001b[0m\u001b[0;34m(\u001b[0m\u001b[0mdf\u001b[0m\u001b[0;34m[\u001b[0m\u001b[0;34m'Start_time'\u001b[0m\u001b[0;34m]\u001b[0m\u001b[0;34m.\u001b[0m\u001b[0miloc\u001b[0m\u001b[0;34m[\u001b[0m\u001b[0mi\u001b[0m\u001b[0;34m]\u001b[0m\u001b[0;34m,\u001b[0m\u001b[0;34m'%H:%M:%S'\u001b[0m\u001b[0;34m)\u001b[0m\u001b[0;34m.\u001b[0m\u001b[0mtime\u001b[0m\u001b[0;34m(\u001b[0m\u001b[0;34m)\u001b[0m\u001b[0;34m:\u001b[0m\u001b[0;34m\u001b[0m\u001b[0m\n\u001b[0m\u001b[1;32m     18\u001b[0m         \u001b[0mtimes_indi\u001b[0m\u001b[0;34m[\u001b[0m\u001b[0;34m'In Session'\u001b[0m\u001b[0;34m]\u001b[0m \u001b[0;34m=\u001b[0m \u001b[0;36m1\u001b[0m\u001b[0;34m\u001b[0m\u001b[0m\n",
      "\u001b[0;32m/anaconda3/lib/python3.6/_strptime.py\u001b[0m in \u001b[0;36m_strptime_datetime\u001b[0;34m(cls, data_string, format)\u001b[0m\n\u001b[1;32m    563\u001b[0m     \"\"\"Return a class cls instance based on the input string and the\n\u001b[1;32m    564\u001b[0m     format string.\"\"\"\n\u001b[0;32m--> 565\u001b[0;31m     \u001b[0mtt\u001b[0m\u001b[0;34m,\u001b[0m \u001b[0mfraction\u001b[0m \u001b[0;34m=\u001b[0m \u001b[0m_strptime\u001b[0m\u001b[0;34m(\u001b[0m\u001b[0mdata_string\u001b[0m\u001b[0;34m,\u001b[0m \u001b[0mformat\u001b[0m\u001b[0;34m)\u001b[0m\u001b[0;34m\u001b[0m\u001b[0m\n\u001b[0m\u001b[1;32m    566\u001b[0m     \u001b[0mtzname\u001b[0m\u001b[0;34m,\u001b[0m \u001b[0mgmtoff\u001b[0m \u001b[0;34m=\u001b[0m \u001b[0mtt\u001b[0m\u001b[0;34m[\u001b[0m\u001b[0;34m-\u001b[0m\u001b[0;36m2\u001b[0m\u001b[0;34m:\u001b[0m\u001b[0;34m]\u001b[0m\u001b[0;34m\u001b[0m\u001b[0m\n\u001b[1;32m    567\u001b[0m     \u001b[0margs\u001b[0m \u001b[0;34m=\u001b[0m \u001b[0mtt\u001b[0m\u001b[0;34m[\u001b[0m\u001b[0;34m:\u001b[0m\u001b[0;36m6\u001b[0m\u001b[0;34m]\u001b[0m \u001b[0;34m+\u001b[0m \u001b[0;34m(\u001b[0m\u001b[0mfraction\u001b[0m\u001b[0;34m,\u001b[0m\u001b[0;34m)\u001b[0m\u001b[0;34m\u001b[0m\u001b[0m\n",
      "\u001b[0;32m/anaconda3/lib/python3.6/_strptime.py\u001b[0m in \u001b[0;36m_strptime\u001b[0;34m(data_string, format)\u001b[0m\n\u001b[1;32m    363\u001b[0m     \u001b[0;32mif\u001b[0m \u001b[0mlen\u001b[0m\u001b[0;34m(\u001b[0m\u001b[0mdata_string\u001b[0m\u001b[0;34m)\u001b[0m \u001b[0;34m!=\u001b[0m \u001b[0mfound\u001b[0m\u001b[0;34m.\u001b[0m\u001b[0mend\u001b[0m\u001b[0;34m(\u001b[0m\u001b[0;34m)\u001b[0m\u001b[0;34m:\u001b[0m\u001b[0;34m\u001b[0m\u001b[0m\n\u001b[1;32m    364\u001b[0m         raise ValueError(\"unconverted data remains: %s\" %\n\u001b[0;32m--> 365\u001b[0;31m                           data_string[found.end():])\n\u001b[0m\u001b[1;32m    366\u001b[0m \u001b[0;34m\u001b[0m\u001b[0m\n\u001b[1;32m    367\u001b[0m     \u001b[0miso_year\u001b[0m \u001b[0;34m=\u001b[0m \u001b[0myear\u001b[0m \u001b[0;34m=\u001b[0m \u001b[0;32mNone\u001b[0m\u001b[0;34m\u001b[0m\u001b[0m\n",
      "\u001b[0;31mValueError\u001b[0m: unconverted data remains: +1100"
     ]
    }
   ],
   "source": [
    "##RESTRICTING TIME\n",
    "#import datetime\n",
    "#from datetime import datetime\n",
    "#import datetime\n",
    "\n",
    "\n",
    "#restricting times\n",
    "\n",
    "#lower_lim = datetime.time(hour = 18, minute = 1, second = 1)\n",
    "#upper_lim = datetime.time(hour = 8, minute = 59, second = 59)\n",
    "\n",
    "\n",
    "#times_indi = np.zeros((len(df),1))\n",
    "#times_indi = pd.DataFrame(times_indi, columns =['In Session'])\n",
    "\n",
    "\n",
    "#for i in range(1,len(df)):\n",
    "    if upper_lim < datetime.datetime.strptime(df['Start_time'].iloc[i],'%H:%M:%S').time():\n",
    "        times_indi['In Session'] = 1\n"
   ]
  },
  {
   "cell_type": "code",
   "execution_count": 204,
   "metadata": {
    "collapsed": true
   },
   "outputs": [],
   "source": [
    "DaysClass = np.zeros((len(df),1))    #creating 'Days' column\n",
    "DaysClass = pd.DataFrame(DaysClass, columns = ['Days'])            "
   ]
  },
  {
   "cell_type": "code",
   "execution_count": 205,
   "metadata": {
    "collapsed": true
   },
   "outputs": [],
   "source": [
    "for i in range(0,len(df)):\n",
    "        DaysClass['Days'].iloc[i] = datetime.strptime(df['Date'].iloc[i],'%Y-%m-%d').strftime('%A')"
   ]
  },
  {
   "cell_type": "code",
   "execution_count": 206,
   "metadata": {},
   "outputs": [],
   "source": [
    "df = pd.concat([df, DaysClass], axis=1) "
   ]
  },
  {
   "cell_type": "code",
   "execution_count": 207,
   "metadata": {},
   "outputs": [],
   "source": [
    "day_counts = Counter(df['Days'])\n",
    "Dict_days = day_counts.items()\n",
    "days , freq_days = zip(*Dict_days)"
   ]
  },
  {
   "cell_type": "code",
   "execution_count": 219,
   "metadata": {},
   "outputs": [
    {
     "data": {
      "image/png": "[encoded data removed]",
      "text/plain": [
       "<matplotlib.figure.Figure at 0x1c216c5828>"
      ]
     },
     "metadata": {},
     "output_type": "display_data"
    }
   ],
   "source": [
    "plt.bar(days,freq_days,color='purple')\n",
    "plt.xticks(rotation=60)\n",
    "plt.show()"
   ]
  },
  {
   "cell_type": "code",
   "execution_count": 220,
   "metadata": {},
   "outputs": [
    {
     "data": {
      "text/plain": [
       "('Wednesday', 'Thursday', 'Tuesday', 'Sunday', 'Saturday', 'Friday', 'Monday')"
      ]
     },
     "execution_count": 220,
     "metadata": {},
     "output_type": "execute_result"
    }
   ],
   "source": [
    "days"
   ]
  },
  {
   "cell_type": "code",
   "execution_count": 200,
   "metadata": {
    "collapsed": true
   },
   "outputs": [],
   "source": [
    "def calc_mean(day):      #calculating the mean of a given day\n",
    "    day_mean = df['attendance_count'][df.Days == day].sum()/len(df[df.Days == day])\n",
    "    return int(day_mean) #using integers because it makes more sense"
   ]
  },
  {
   "cell_type": "code",
   "execution_count": 196,
   "metadata": {
    "collapsed": true
   },
   "outputs": [],
   "source": [
    "day_labels = ['Monday','Tuesday','Wednesday','Thursday','Friday','Saturday','Sunday']"
   ]
  },
  {
   "cell_type": "code",
   "execution_count": 213,
   "metadata": {
    "scrolled": true
   },
   "outputs": [],
   "source": [
    "day_means=[0,0,0,0,0,0,0]\n",
    "\n",
    "for i in range(0,len(day_labels)): #applying function to each day\n",
    "    day_means[i] = calc_mean(day_labels[i])"
   ]
  },
  {
   "cell_type": "code",
   "execution_count": 223,
   "metadata": {},
   "outputs": [
    {
     "data": {
      "image/png": "[encoded data removed]",
      "text/plain": [
       "<matplotlib.figure.Figure at 0x1c216ba908>"
      ]
     },
     "metadata": {},
     "output_type": "display_data"
    }
   ],
   "source": [
    "plt.bar(day_labels, day_means, color='green')\n",
    "plt.xticks(rotation=60)\n",
    "plt.show()"
   ]
  },
  {
   "cell_type": "code",
   "execution_count": null,
   "metadata": {
    "collapsed": true
   },
   "outputs": [],
   "source": [
    "#weekend/weekdays analysis\n",
    "\n",
    "weekdays = df[(df.Days == 'Saturday') | (df.Days == 'Sunday')]\n",
    "weekends = df[(df.Days == 'Monday') | (df.Days == 'Tuesday') | (df.Days == 'Wednesday') | (df.Days == 'Thursday') | (df.Days == 'Friday')]\n",
    "\n"
   ]
  },
  {
   "cell_type": "code",
   "execution_count": null,
   "metadata": {
    "collapsed": true
   },
   "outputs": [],
   "source": [
    "weekend_mean = int(np.mean(weekends['attendance_count']))\n",
    "weekday_mean = int(np.mean(weekdays['attendance_count']))\n",
    "\n",
    "wknd_labels = ['Weekend','Weekday']\n",
    "wknd_means = [weekend_mean, weekday_mean]"
   ]
  },
  {
   "cell_type": "code",
   "execution_count": null,
   "metadata": {
    "collapsed": true
   },
   "outputs": [],
   "source": [
    "plt.bar(wknd_labels,wknd_means)\n",
    "plt.show()"
   ]
  },
  {
   "cell_type": "markdown",
   "metadata": {},
   "source": [
    "# Pub Crawls, Alcohol and Food"
   ]
  },
  {
   "cell_type": "markdown",
   "metadata": {},
   "source": [
    "## Alcohol and Food\n",
    "\n",
    "A substantial ammount of events are related to food and alcohol in order to boost exposure, increase membership and ensure that socities remain active. But how effective are these? Are those free lunches really worth it? We have firstly, using Natural Language Processing (NLP) we have split the data into the following categories: Those events that involve food (presumeably this is mostly *free* food), those events that involve alcohol, and those events which include both. Below, we have a bar chart which graphs the average attendance count for each of these categories."
   ]
  },
  {
   "cell_type": "code",
   "execution_count": 184,
   "metadata": {
    "collapsed": true
   },
   "outputs": [],
   "source": [
    "#Searching for'Pub Crawl' in descriptions  ##pubcrawls\n",
    "\n",
    "PubClass=np.zeros((len(df),1))\n",
    "\n",
    "\n",
    "for event in range(1, len(df)): #Looping through dataframe making sure we account for case sensitivity \n",
    "    if (   'Pub Crawl' in df.loc[event,'description']  \n",
    "        or 'PUB CRAWL' in df.loc[event,'description'] \n",
    "        or 'PUBCRAWL'  in df.loc[event,'description'] \n",
    "        or 'pubcrawl'  in df.loc[event,'description'] \n",
    "        or 'pub crawl' in df.loc[event,'description']\n",
    "         \n",
    "        or 'Pub Crawl' in df.loc[event,'event_name'] \n",
    "        or 'PUBCRAWL'  in df.loc[event,'event_name'] \n",
    "        or 'pubcrawl'  in df.loc[event,'event_name']\n",
    "        or 'pub crawl' in df.loc[event,'event_name']):\n",
    "            PubClass[event] = 1\n",
    "            \n",
    "PubClass = pd.DataFrame(PubClass, columns=['Pub Crawl'])\n",
    "df = pd.concat([df, PubClass], axis=1)\n"
   ]
  },
  {
   "cell_type": "code",
   "execution_count": 185,
   "metadata": {},
   "outputs": [
    {
     "data": {
      "text/plain": [
       "<function datetime.weekday>"
      ]
     },
     "execution_count": 185,
     "metadata": {},
     "output_type": "execute_result"
    }
   ],
   "source": [
    "datetime.strptime(df['Date'].iloc[1], '%Y-%m-%d').weekday"
   ]
  },
  {
   "cell_type": "code",
   "execution_count": 186,
   "metadata": {
    "collapsed": true
   },
   "outputs": [],
   "source": [
    "df_catering = pd.read_csv('Alcohol+Food.csv') #Food and alcohol indicator"
   ]
  },
  {
   "cell_type": "code",
   "execution_count": 187,
   "metadata": {},
   "outputs": [],
   "source": [
    "mat = [df, df_catering['Food available'], df_catering['Alcohol available']]\n",
    "\n",
    "df = pd.concat(mat, axis = 1)  #adding food/alcohol dataframe indicators\n",
    "\n",
    "BothClass=np.zeros((len(df),1))\n",
    "\n",
    "for i in range(1,len(df)):\n",
    "    if (df['Food available'].iloc[i] == 1 \n",
    "    & df['Alcohol available'].iloc[i] == 1):\n",
    "        BothClass[i] = 1\n",
    "        \n",
    "BothClass = pd.DataFrame(BothClass, columns=['Both'])\n",
    "df = pd.concat([df, BothClass], axis=1)"
   ]
  },
  {
   "cell_type": "code",
   "execution_count": 188,
   "metadata": {},
   "outputs": [],
   "source": [
    "#added extra or condition because pub crawls weren't getting picked up\n",
    "\n",
    "all_df  = df\n",
    "food_df = df[(df['Food available'] == 1) & (df['Alcohol available'] != 1)] \n",
    "alco_df = df[(df['Alcohol available'] == 1) & (df['Food available'] != 1) | (df['Pub Crawl'] == 1)]\n",
    "both_df = df[(df['Alcohol available'] == 1) & (df['Food available'] == 1)]"
   ]
  },
  {
   "cell_type": "code",
   "execution_count": 189,
   "metadata": {
    "collapsed": true
   },
   "outputs": [],
   "source": [
    "all_mean = np.mean(all_df['attendance_count'])\n",
    "food_mean = np.mean(food_df['attendance_count'])\n",
    "alco_mean = np.mean(alco_df['attendance_count'])\n",
    "both_mean = np.mean(both_df['attendance_count'])\n",
    "\n",
    "catering_means = [all_mean, food_mean, alco_mean, both_mean]\n",
    "catering_labels = ['Entire sample','Just food', 'Just alcohol', 'Both' ]"
   ]
  },
  {
   "cell_type": "code",
   "execution_count": 224,
   "metadata": {},
   "outputs": [
    {
     "data": {
      "image/png": "[encoded data removed]",
      "text/plain": [
       "<matplotlib.figure.Figure at 0x1c21442cf8>"
      ]
     },
     "metadata": {},
     "output_type": "display_data"
    }
   ],
   "source": [
    "plt.bar(catering_labels, catering_means, color='yellow')\n",
    "plt.show()"
   ]
  },
  {
   "cell_type": "code",
   "execution_count": 225,
   "metadata": {},
   "outputs": [
    {
     "name": "stdout",
     "output_type": "stream",
     "text": [
      "                            OLS Regression Results                            \n",
      "==============================================================================\n",
      "Dep. Variable:       attendance_count   R-squared:                       1.000\n",
      "Model:                            OLS   Adj. R-squared:                  1.000\n",
      "Method:                 Least Squares   F-statistic:                 1.417e+31\n",
      "Date:                Thu, 08 Mar 2018   Prob (F-statistic):               0.00\n",
      "Time:                        22:45:13   Log-Likelihood:                 30661.\n",
      "No. Observations:                1149   AIC:                        -6.131e+04\n",
      "Df Residuals:                    1143   BIC:                        -6.128e+04\n",
      "Df Model:                           6                                         \n",
      "Covariance Type:            nonrobust                                         \n",
      "=======================================================================================\n",
      "                          coef    std err          t      P>|t|      [0.025      0.975]\n",
      "---------------------------------------------------------------------------------------\n",
      "interested_count       -2.0000   4.55e-16   -4.4e+15      0.000      -2.000      -2.000\n",
      "no_reply_count         -1.0000   2.29e-16  -4.37e+15      0.000      -1.000      -1.000\n",
      "society_size        -1.007e-18    6.5e-18     -0.155      0.877   -1.38e-17    1.17e-17\n",
      "total_invited_count     1.0000   1.88e-16   5.32e+15      0.000       1.000       1.000\n",
      "Food available       1.223e-14   4.59e-14      0.266      0.790   -7.79e-14    1.02e-13\n",
      "Alcohol available    -5.04e-15   4.17e-14     -0.121      0.904    -8.7e-14    7.69e-14\n",
      "==============================================================================\n",
      "Omnibus:                     1138.267   Durbin-Watson:                   1.164\n",
      "Prob(Omnibus):                  0.000   Jarque-Bera (JB):            52930.424\n",
      "Skew:                          -4.694   Prob(JB):                         0.00\n",
      "Kurtosis:                      34.898   Cond. No.                     1.11e+04\n",
      "==============================================================================\n",
      "\n",
      "Warnings:\n",
      "[1] Standard Errors assume that the covariance matrix of the errors is correctly specified.\n",
      "[2] The condition number is large, 1.11e+04. This might indicate that there are\n",
      "strong multicollinearity or other numerical problems.\n"
     ]
    }
   ],
   "source": [
    "X6 = df[['interested_count','no_reply_count','society_size','total_invited_count','Food available','Alcohol available']]\n",
    "y6 = df[['attendance_count']]\n",
    "\n",
    "model6 = sm.OLS(y6, X6)\n",
    "results6 = model6.fit()\n",
    "print(results6.summary())"
   ]
  },
  {
   "cell_type": "markdown",
   "metadata": {},
   "source": [
    "## Pub Crawls"
   ]
  },
  {
   "cell_type": "markdown",
   "metadata": {},
   "source": [
    "Pub Crawls are a popular event option. One general observation was that Pub Crawls seemed to be fairly consistent and uniform in that most socities don't hold these ad-hoc, these are for example; 'Welcome back drinks' or annual dress up events which presumeably would happen regardless of potential attendance. As a result we have decided not to explore *if* these sorts of events drive attendance, but rather *which* events have drawn the biggest crowds. \n",
    "\n",
    "We firstly looked at location. Using NLP we were able to indicate whether certain events were indeed pub crawls, and then were able to split the data into 3 categories, pub crawls beginning in Newtown, pub crawls beginning on Campus (generally Hermann's/Manning, but we have used post codes so places like The Royal count too) and pub crawls than begin elsewhere. "
   ]
  },
  {
   "cell_type": "code",
   "execution_count": 191,
   "metadata": {},
   "outputs": [],
   "source": [
    "#Kings cross vs elsewhere\n",
    "\n",
    "pc_df = df.dropna(subset=['zip'], how='any')\n",
    "\n",
    "\n",
    "pc_df = df[df['Alcohol available'] == 1 | (df['Both'] == 1)]"
   ]
  },
  {
   "cell_type": "code",
   "execution_count": 192,
   "metadata": {},
   "outputs": [],
   "source": [
    "newtown_df = pc_df[pc_df.zip == 2042]\n",
    "campus_drinks = pc_df[pc_df.zip == 2006]\n",
    "elsewhere_df = pc_df[(pc_df.zip != 2006) & (pc_df.zip != 2042)]"
   ]
  },
  {
   "cell_type": "code",
   "execution_count": 193,
   "metadata": {},
   "outputs": [],
   "source": [
    "NewtownMeans = [np.mean(newtown_df['attendance_count']), np.mean(elsewhere_df['attendance_count']), np.mean(campus_drinks['attendance_count'])]\n",
    "NewtownLabels = ['Newtown', 'Elsewhere','Campus']"
   ]
  },
  {
   "cell_type": "code",
   "execution_count": 222,
   "metadata": {},
   "outputs": [
    {
     "data": {
      "image/png": "[encoded data removed]",
      "text/plain": [
       "<matplotlib.figure.Figure at 0x1c2178bd68>"
      ]
     },
     "metadata": {},
     "output_type": "display_data"
    }
   ],
   "source": [
    "plt.bar(NewtownLabels, NewtownMeans, color='orange')\n",
    "plt.show()"
   ]
  },
  {
   "cell_type": "code",
   "execution_count": 233,
   "metadata": {},
   "outputs": [],
   "source": [
    "new_else = scipy.stats.ttest_ind(newtown_df['attendance_count'], \n",
    "                                 elsewhere_df['attendance_count'], axis=0, equal_var=True, nan_policy='propagate')\n",
    "\n",
    "new_camp = scipy.stats.ttest_ind(newtown_df['attendance_count'], \n",
    "                                 campus_drinks['attendance_count'], axis=0, equal_var=True, nan_policy='propagate')\n",
    "\n",
    "camp_else = scipy.stats.ttest_ind(elsewhere_df['attendance_count'], \n",
    "                                 campus_drinks['attendance_count'], axis=0, equal_var=True, nan_policy='propagate')\n"
   ]
  },
  {
   "cell_type": "code",
   "execution_count": 241,
   "metadata": {},
   "outputs": [
    {
     "data": {
      "text/plain": [
       "Ttest_indResult(statistic=1.9923416999565204, pvalue=0.047056240443526576)"
      ]
     },
     "execution_count": 241,
     "metadata": {},
     "output_type": "execute_result"
    }
   ],
   "source": [
    "camp_else #only camp else is statistically significant"
   ]
  },
  {
   "cell_type": "code",
   "execution_count": null,
   "metadata": {
    "collapsed": true
   },
   "outputs": [],
   "source": []
  }
 ],
 "metadata": {
  "kernelspec": {
   "display_name": "Python 3",
   "language": "python",
   "name": "python3"
  },
  "language_info": {
   "codemirror_mode": {
    "name": "ipython",
    "version": 3
   },
   "file_extension": ".py",
   "mimetype": "text/x-python",
   "name": "python",
   "nbconvert_exporter": "python",
   "pygments_lexer": "ipython3",
   "version": "3.6.3"
  }
 },
 "nbformat": 4,
 "nbformat_minor": 2
}
