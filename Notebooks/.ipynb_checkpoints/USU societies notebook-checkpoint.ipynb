{
 "cells": [
  {
   "cell_type": "code",
   "execution_count": 1,
   "metadata": {
    "collapsed": true
   },
   "outputs": [],
   "source": [
    "import pandas as pd \n",
    "import numpy as np\n",
    "import scipy\n",
    "import sklearn \n",
    "from sklearn import linear_model"
   ]
  },
  {
   "cell_type": "code",
   "execution_count": 6,
   "metadata": {},
   "outputs": [],
   "source": [
    "df = pd.read_csv('final_data.csv')"
   ]
  },
  {
   "cell_type": "code",
   "execution_count": 10,
   "metadata": {},
   "outputs": [],
   "source": [
    "# we ommit maybe_count because it turns out it is exactly the same as interested_count\\n\",\n",
    "X1 = df[['interested_count','no_reply_count','total_invited_count']]\n",
    "y1 = df[['attendance_count']]"
   ]
  },
  {
   "cell_type": "markdown",
   "metadata": {},
   "source": [
    "# Linear Regression"
   ]
  },
  {
   "cell_type": "code",
   "execution_count": 12,
   "metadata": {},
   "outputs": [
    {
     "name": "stderr",
     "output_type": "stream",
     "text": [
      "/anaconda3/lib/python3.6/site-packages/statsmodels/compat/pandas.py:56: FutureWarning: The pandas.core.datetools module is deprecated and will be removed in a future version. Please use the pandas.tseries module instead.\n",
      "  from pandas.core import datetools\n"
     ]
    },
    {
     "name": "stdout",
     "output_type": "stream",
     "text": [
      "                            OLS Regression Results                            \n",
      "==============================================================================\n",
      "Dep. Variable:       attendance_count   R-squared:                       1.000\n",
      "Model:                            OLS   Adj. R-squared:                  1.000\n",
      "Method:                 Least Squares   F-statistic:                 4.466e+30\n",
      "Date:                Tue, 27 Feb 2018   Prob (F-statistic):               0.00\n",
      "Time:                        10:30:34   Log-Likelihood:                 29598.\n",
      "No. Observations:                1149   AIC:                        -5.919e+04\n",
      "Df Residuals:                    1146   BIC:                        -5.918e+04\n",
      "Df Model:                           3                                         \n",
      "Covariance Type:            nonrobust                                         \n",
      "=======================================================================================\n",
      "                          coef    std err          t      P>|t|      [0.025      0.975]\n",
      "---------------------------------------------------------------------------------------\n",
      "interested_count       -2.0000   1.13e-15  -1.77e+15      0.000      -2.000      -2.000\n",
      "no_reply_count         -1.0000   5.71e-16  -1.75e+15      0.000      -1.000      -1.000\n",
      "total_invited_count     1.0000   4.64e-16   2.16e+15      0.000       1.000       1.000\n",
      "==============================================================================\n",
      "Omnibus:                     1304.418   Durbin-Watson:                   1.311\n",
      "Prob(Omnibus):                  0.000   Jarque-Bera (JB):           110323.765\n",
      "Skew:                          -5.650   Prob(JB):                         0.00\n",
      "Kurtosis:                      49.655   Cond. No.                         28.3\n",
      "==============================================================================\n",
      "\n",
      "Warnings:\n",
      "[1] Standard Errors assume that the covariance matrix of the errors is correctly specified.\n"
     ]
    }
   ],
   "source": [
    "import statsmodels.api as sm #using statsmodels as opposed to sklearn due to regression output\n",
    "    \n",
    "model1 = sm.OLS(y, X)\n",
    "results1 = model1.fit()\n",
    "print(results1.summary())"
   ]
  },
  {
   "cell_type": "markdown",
   "metadata": {},
   "source": [
    "### What does this mean? ,\n",
    "Our model has estimated that there is a negative relationship (which is statistically significant) between the number of interested students and those that attend the events. This is somehwhat counter-intuitive, we have found that we would expect event attendance to *decrease* rather than increase as more people click interested.\n",
    "\n",
    "We have also found that there is a positive relationship between total invites and event attendance, aswell as a negative relationship between how many people do not reply and event attendance. These however are fairly intuitive conclusions.\n"
   ]
  },
  {
   "cell_type": "markdown",
   "metadata": {},
   "source": [
    "### Can we explain our results?\n",
    "Let's assume that the only people who could potentially come to these events are the ones invited on Facebook. So for each event, we have some part of the student body that is 'eligible' to come to these events. Within that body there are 2 subsets of people, those who are 'favourable' to the event, and those who aren't. Those who aren't are the no-replyers, they do not really ever consider going whereas the 'favourable' group is comprised of people who click attending and interested -- these are the people that who are actually thinking about going to these events. You can only choose to click either going or interested in an event on Facebook, and so it is sort of like a zero sum game -- the more interested people in this subgroup, the less can be 'going' and vice versa.\n",
    "\n",
    "### What can we draw from this?\n",
    "**NEED TO ADD HERE**"
   ]
  },
  {
   "cell_type": "markdown",
   "metadata": {},
   "source": [
    "# Clustering"
   ]
  },
  {
   "cell_type": "markdown",
   "metadata": {},
   "source": [
    "We can use clustering now to understand whether or not holding events on/off campus has effects on event attendance. What we have done here is seperate the data into two groups, those events that are held on campus and those that aren't. We will then run through a similar process as above to determine whether geographical location has some significant effect on group attendance."
   ]
  },
  {
   "cell_type": "code",
   "execution_count": 18,
   "metadata": {},
   "outputs": [
    {
     "name": "stderr",
     "output_type": "stream",
     "text": [
      "/anaconda3/lib/python3.6/site-packages/ipykernel_launcher.py:3: SettingWithCopyWarning: \n",
      "A value is trying to be set on a copy of a slice from a DataFrame.\n",
      "Try using .loc[row_indexer,col_indexer] = value instead\n",
      "\n",
      "See the caveats in the documentation: http://pandas.pydata.org/pandas-docs/stable/indexing.html#indexing-view-versus-copy\n",
      "  This is separate from the ipykernel package so we can avoid doing imports until\n"
     ]
    }
   ],
   "source": [
    "zipdf = df.dropna(subset=['zip'], how='any') #dropping rows with no postcode\n",
    "CampClass = np.where(zipdf['zip'] == 2006,1 ,0) #Creating an indicator vector\n",
    "zipdf['Campus'] = CampClass #adding to existing dataframe\""
   ]
  },
  {
   "cell_type": "code",
   "execution_count": 27,
   "metadata": {},
   "outputs": [
    {
     "name": "stdout",
     "output_type": "stream",
     "text": [
      "                            OLS Regression Results                            \n",
      "==============================================================================\n",
      "Dep. Variable:       attendance_count   R-squared:                       1.000\n",
      "Model:                            OLS   Adj. R-squared:                  1.000\n",
      "Method:                 Least Squares   F-statistic:                 1.955e+33\n",
      "Date:                Tue, 27 Feb 2018   Prob (F-statistic):               0.00\n",
      "Time:                        10:50:05   Log-Likelihood:                 18517.\n",
      "No. Observations:                 638   AIC:                        -3.703e+04\n",
      "Df Residuals:                     634   BIC:                        -3.701e+04\n",
      "Df Model:                           4                                         \n",
      "Covariance Type:            nonrobust                                         \n",
      "=======================================================================================\n",
      "                          coef    std err          t      P>|t|      [0.025      0.975]\n",
      "---------------------------------------------------------------------------------------\n",
      "interested_count       -2.0000   4.67e-17  -4.28e+16      0.000      -2.000      -2.000\n",
      "no_reply_count         -1.0000   2.39e-17  -4.18e+16      0.000      -1.000      -1.000\n",
      "total_invited_count     1.0000   1.92e-17    5.2e+16      0.000       1.000       1.000\n",
      "Campus               1.085e-14   4.12e-15      2.637      0.009    2.77e-15    1.89e-14\n",
      "==============================================================================\n",
      "Omnibus:                      523.352   Durbin-Watson:                   1.521\n",
      "Prob(Omnibus):                  0.000   Jarque-Bera (JB):            15485.836\n",
      "Skew:                           3.438   Prob(JB):                         0.00\n",
      "Kurtosis:                      26.135   Cond. No.                     2.10e+03\n",
      "==============================================================================\n",
      "\n",
      "Warnings:\n",
      "[1] Standard Errors assume that the covariance matrix of the errors is correctly specified.\n",
      "[2] The condition number is large, 2.1e+03. This might indicate that there are\n",
      "strong multicollinearity or other numerical problems.\n"
     ]
    }
   ],
   "source": [
    "X2 = zipdf[['interested_count','no_reply_count','total_invited_count', 'Campus']]\n",
    "y2 = zipdf[['attendance_count']]\n",
    "    \n",
    "model2 = sm.OLS(y2, X2)\n",
    "results2 = model2.fit()\n",
    "print(results2.summary())"
   ]
  },
  {
   "cell_type": "code",
   "execution_count": 30,
   "metadata": {},
   "outputs": [
    {
     "data": {
      "image/png": "[encoded data removed]",
      "text/plain": [
       "<matplotlib.figure.Figure at 0x1c0aabf630>"
      ]
     },
     "metadata": {},
     "output_type": "display_data"
    }
   ],
   "source": [
    "import matplotlib.pyplot as plt\n",
    "plt.hist(df['attendance_count'], bins='sqrt')  # bin choice via sqrt(n) provides something easy to understand visually\n",
    "plt.title(\"How are attendance counts distributed?\")\n",
    "plt.show()"
   ]
  },
  {
   "cell_type": "markdown",
   "metadata": {},
   "source": [
    "| Size  | Frequency   |  \n",
    "|-------|-------------|\n",
    "|0-86   |     422     |  \n",
    "|       |             |\n",
    "|87-172 |     107     |\n",
    "|       |             |\n",
    "|173-258|     38      |\n",
    "|       |             |\n",
    "|259-334|     27      | \n",
    "|       |             |\n",
    "\n",
    "Here, we have listed the frequencies of events that fit into the specific categories that          are arranged by size.\\n\","
   ]
  },
  {
   "cell_type": "markdown",
   "metadata": {},
   "source": [
    "### What have we found?\n",
    "These results suggest that there is a small but statistically significant effect that stems from holding events on campus. Our model is telling us that events held on campus tend to have a *lower* average attendance than those that are not.\n",
    "\n",
    "#### Lower??\n",
    "The results seem to suggest that students do not prefer the convenience of on-campus events. Maybe the fact that the events *are* so accesible makes them a little less desireable, maybe people like to dress up, maybe people hate Manning Bar -- whatever it is it seems to be the case that off-campus events attract at least a few more people than the on-campus options. **WE COULD EXPLORE THIS FURTHER WITH NLP**\n",
    "\n",
    "Note though, that a vast majority of events that are held by societies are relativley small. Most of our observations lie within that 0-86 individual attendance range. In other words, smaller events may exhibit different characterisitcs, and these effects may be a little different. In our next model we have controlled for this by only including data from the smallest bracket (0-86)."
   ]
  },
  {
   "cell_type": "code",
   "execution_count": 31,
   "metadata": {},
   "outputs": [
    {
     "name": "stdout",
     "output_type": "stream",
     "text": [
      "                            OLS Regression Results                            \n",
      "==============================================================================\n",
      "Dep. Variable:       attendance_count   R-squared:                       1.000\n",
      "Model:                            OLS   Adj. R-squared:                  1.000\n",
      "Method:                 Least Squares   F-statistic:                 7.156e+30\n",
      "Date:                Tue, 27 Feb 2018   Prob (F-statistic):               0.00\n",
      "Time:                        10:54:33   Log-Likelihood:                 11866.\n",
      "No. Observations:                 422   AIC:                        -2.372e+04\n",
      "Df Residuals:                     418   BIC:                        -2.371e+04\n",
      "Df Model:                           4                                         \n",
      "Covariance Type:            nonrobust                                         \n",
      "=======================================================================================\n",
      "                          coef    std err          t      P>|t|      [0.025      0.975]\n",
      "---------------------------------------------------------------------------------------\n",
      "interested_count       -2.0000   7.82e-16  -2.56e+15      0.000      -2.000      -2.000\n",
      "no_reply_count         -1.0000   3.77e-16  -2.66e+15      0.000      -1.000      -1.000\n",
      "total_invited_count     1.0000   3.43e-16   2.91e+15      0.000       1.000       1.000\n",
      "Campus               3.109e-15    1.3e-14      0.239      0.811   -2.24e-14    2.87e-14\n",
      "==============================================================================\n",
      "Omnibus:                       59.489   Durbin-Watson:                   1.402\n",
      "Prob(Omnibus):                  0.000   Jarque-Bera (JB):              528.141\n",
      "Skew:                          -0.143   Prob(JB):                    2.07e-115\n",
      "Kurtosis:                       8.473   Cond. No.                         689.\n",
      "==============================================================================\n",
      "\n",
      "Warnings:\n",
      "[1] Standard Errors assume that the covariance matrix of the errors is correctly specified.\n"
     ]
    },
    {
     "name": "stderr",
     "output_type": "stream",
     "text": [
      "/anaconda3/lib/python3.6/site-packages/ipykernel_launcher.py:1: UserWarning: Boolean Series key will be reindexed to match DataFrame index.\n",
      "  \"\"\"Entry point for launching an IPython kernel.\n"
     ]
    }
   ],
   "source": [
    "small_df = zipdf[df.attendance_count < 87]\n",
    "\n",
    "X2 = small_df[['interested_count','no_reply_count','total_invited_count','Campus']]\n",
    "y2 = small_df[['attendance_count']]\n",
    "\n",
    "model2 = sm.OLS(y2, X2)\n",
    "results2 = model2.fit()\n",
    "print(results2.summary())"
   ]
  },
  {
   "cell_type": "markdown",
   "metadata": {},
   "source": [
    "### What have we found?\n",
    "If you're hosting a *small* event, there is no (statistical) difference between hosting the event on campus or off it. In short, if you're hosting something big, avoid spending time on campus, but if it's something small it could be worth keeping it local."
   ]
  },
  {
   "cell_type": "code",
   "execution_count": null,
   "metadata": {
    "collapsed": true
   },
   "outputs": [],
   "source": []
  }
 ],
 "metadata": {
  "kernelspec": {
   "display_name": "Python 3",
   "language": "python",
   "name": "python3"
  },
  "language_info": {
   "codemirror_mode": {
    "name": "ipython",
    "version": 3
   },
   "file_extension": ".py",
   "mimetype": "text/x-python",
   "name": "python",
   "nbconvert_exporter": "python",
   "pygments_lexer": "ipython3",
   "version": "3.6.4"
  }
 },
 "nbformat": 4,
 "nbformat_minor": 2
}
