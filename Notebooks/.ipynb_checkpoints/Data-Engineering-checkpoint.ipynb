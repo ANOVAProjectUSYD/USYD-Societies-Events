{
 "cells": [
  {
   "cell_type": "code",
   "execution_count": 1,
   "metadata": {},
   "outputs": [],
   "source": [
    "import pandas as pd\n",
    "import datetime\n",
    "import time"
   ]
  },
  {
   "cell_type": "code",
   "execution_count": 2,
   "metadata": {},
   "outputs": [],
   "source": [
    "df = pd.read_csv('../Datasets/final_data.csv') # event data."
   ]
  },
  {
   "cell_type": "code",
   "execution_count": 3,
   "metadata": {},
   "outputs": [],
   "source": [
    "df_soc = pd.read_csv('../Datasets/final_societies_facebook.csv') # society data."
   ]
  },
  {
   "cell_type": "markdown",
   "metadata": {},
   "source": [
    "## Creating new field to control for size of the society\n",
    "This section does as what the title says. Here, we use number of FB likes as a proxy for size of society. This creates a new field called society_size."
   ]
  },
  {
   "cell_type": "code",
   "execution_count": 4,
   "metadata": {},
   "outputs": [],
   "source": [
    "df_temp = df_soc[['Facebook_ID', 'Likes']].copy() # creates temporary copy with just id and likes.\n",
    "df_temp = df_temp.rename(columns={'Facebook_ID': 'Society'}) # renames column.\n",
    "df = pd.merge(df, df_temp, on=['Society']) # new field with size of society created.\n",
    "df = df.rename(columns={'Likes': 'society_size'}) # renames the new field."
   ]
  },
  {
   "cell_type": "markdown",
   "metadata": {},
   "source": [
    "# Creating start time and date column\n",
    "\n",
    "This section will show you how to create 2 new fields based from the original start_time field."
   ]
  },
  {
   "cell_type": "code",
   "execution_count": 6,
   "metadata": {},
   "outputs": [],
   "source": [
    "from operator import methodcaller\n",
    "start_time_series = list(map(methodcaller(\"split\", 'T'), df['start_time'])) # split the dates up."
   ]
  },
  {
   "cell_type": "code",
   "execution_count": 7,
   "metadata": {},
   "outputs": [],
   "source": [
    "date = [day[0] for day in start_time_series] # splits the start time and date up.\n",
    "start_time = [time[1] for time in start_time_series]"
   ]
  },
  {
   "cell_type": "code",
   "execution_count": 8,
   "metadata": {},
   "outputs": [],
   "source": [
    "df['Start_time'] = start_time # create new fields and deletes old field.\n",
    "df['Date'] = date\n",
    "del df['start_time']"
   ]
  },
  {
   "cell_type": "markdown",
   "metadata": {},
   "source": [
    "If you want to be able to export all we have done as a new csv file, uncomment the next block of code and run it."
   ]
  },
  {
   "cell_type": "code",
   "execution_count": null,
   "metadata": {},
   "outputs": [],
   "source": [
    "# df.to_csv('final_data.edited', index=False)"
   ]
  },
  {
   "cell_type": "markdown",
   "metadata": {},
   "source": [
    "# Next section is still incomplete but pretty much we are using the datetime module to create dates and query the data by that.\n",
    "\n",
    "Using this to help: https://chrisalbon.com/python/data_wrangling/pandas_time_series_basics/"
   ]
  },
  {
   "cell_type": "markdown",
   "metadata": {},
   "source": [
    "# Restrict Time"
   ]
  },
  {
   "cell_type": "markdown",
   "metadata": {},
   "source": [
    "If you want to be able to query the events that start between 9-5pm, read on!. This next section helps transforms the start time from type string into a date time object, which makes for easier manipulation."
   ]
  },
  {
   "cell_type": "code",
   "execution_count": null,
   "metadata": {},
   "outputs": [],
   "source": [
    "times_convert = lambda : list(map(methodcaller('split','+'), df['Start_time']))\n",
    "times = [x[0] for x in times_convert()]\n",
    "convert_time = lambda x: datetime.datetime.strptime(x, '%H:%M:%S').time()\n",
    "t = list(map(convert_time, times))\n",
    "df['Start_time'] = t"
   ]
  },
  {
   "cell_type": "markdown",
   "metadata": {},
   "source": [
    "If you want to restrict the dataset on a different time range, just change the arguments of the function."
   ]
  },
  {
   "cell_type": "code",
   "execution_count": null,
   "metadata": {},
   "outputs": [],
   "source": [
    "def restrict_range(start, end):\n",
    "    '''Returns the dataset containing events starting between the specified time range.'''\n",
    "    "
   ]
  },
  {
   "cell_type": "code",
   "execution_count": null,
   "metadata": {},
   "outputs": [],
   "source": [
    "start = datetime.time(9,0,0)\n",
    "end = datetime.time(17,0,0)"
   ]
  },
  {
   "cell_type": "code",
   "execution_count": null,
   "metadata": {},
   "outputs": [],
   "source": [
    "df['Start_time'].between_time(start, end)"
   ]
  },
  {
   "cell_type": "code",
   "execution_count": null,
   "metadata": {},
   "outputs": [],
   "source": [
    "df['Start_time'].iloc[0]"
   ]
  },
  {
   "cell_type": "code",
   "execution_count": null,
   "metadata": {},
   "outputs": [],
   "source": [
    "df_2 = df.set_index('Start_time')\n"
   ]
  },
  {
   "cell_type": "code",
   "execution_count": null,
   "metadata": {},
   "outputs": [],
   "source": [
    "df['Start_time'] = pd.DatetimeIndex(df['Start_time'])"
   ]
  },
  {
   "cell_type": "markdown",
   "metadata": {},
   "source": [
    "## Manipulation Dates\n",
    "This section will classify whether an event is held in semester 1 or 2."
   ]
  },
  {
   "cell_type": "code",
   "execution_count": null,
   "metadata": {},
   "outputs": [],
   "source": []
  }
 ],
 "metadata": {
  "kernelspec": {
   "display_name": "Python 3",
   "language": "python",
   "name": "python3"
  },
  "language_info": {
   "codemirror_mode": {
    "name": "ipython",
    "version": 3
   },
   "file_extension": ".py",
   "mimetype": "text/x-python",
   "name": "python",
   "nbconvert_exporter": "python",
   "pygments_lexer": "ipython3",
   "version": "3.6.4"
  }
 },
 "nbformat": 4,
 "nbformat_minor": 2
}
