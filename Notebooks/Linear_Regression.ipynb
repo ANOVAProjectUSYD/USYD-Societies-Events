{
 "cells": [
  {
   "cell_type": "code",
   "execution_count": 1,
   "metadata": {},
   "outputs": [],
   "source": [
    "import pandas as pd \n",
    "import numpy as np\n",
    "import scipy\n",
    "import sklearn \n",
    "from sklearn import linear_model"
   ]
  },
  {
   "cell_type": "code",
   "execution_count": 2,
   "metadata": {
    "scrolled": false
   },
   "outputs": [],
   "source": [
    "df=pd.read_csv('final_data_3.csv')"
   ]
  },
  {
   "cell_type": "code",
   "execution_count": 3,
   "metadata": {},
   "outputs": [],
   "source": [
    "def compute_correlation(column_name):\n",
    "    '''Computes the correlation with attendance count and column name.'''\n",
    "    return df['attendance_count'].corr(df[column_name])"
   ]
  },
  {
   "cell_type": "markdown",
   "metadata": {},
   "source": [
    "Calculating pairwise correlation between columns of dataframe.\n",
    "\n",
    "We have omitted the 'declined' column because all entries are 0, correlation calculatons are impossible\n"
   ]
  },
  {
   "cell_type": "code",
   "execution_count": 4,
   "metadata": {},
   "outputs": [],
   "source": [
    "corr_total=compute_correlation('total_invited_count')\n",
    "\n",
    "corr_maybe= compute_correlation('maybe_count')\n",
    "\n",
    "corr_no_reply= compute_correlation('no_reply_count')\n",
    "\n",
    "corr_interested_count = compute_correlation('interested_count')"
   ]
  },
  {
   "cell_type": "code",
   "execution_count": 18,
   "metadata": {},
   "outputs": [],
   "source": [
    "corr_df=(corr_total, corr_maybe, corr_no_reply, corr_interested_count) \n",
    "column_title = ['Total Invited', 'Maybe', 'No Replies', 'Interested']\n",
    "\n",
    "dictionary_correlation = dict(zip(column_title, corr_df)) # creates dictionary for dataframe"
   ]
  },
  {
   "cell_type": "code",
   "execution_count": 20,
   "metadata": {},
   "outputs": [
    {
     "data": {
      "text/html": [
       "<div>\n",
       "<style scoped>\n",
       "    .dataframe tbody tr th:only-of-type {\n",
       "        vertical-align: middle;\n",
       "    }\n",
       "\n",
       "    .dataframe tbody tr th {\n",
       "        vertical-align: top;\n",
       "    }\n",
       "\n",
       "    .dataframe thead th {\n",
       "        text-align: right;\n",
       "    }\n",
       "</style>\n",
       "<table border=\"1\" class=\"dataframe\">\n",
       "  <thead>\n",
       "    <tr style=\"text-align: right;\">\n",
       "      <th></th>\n",
       "      <th>Interested</th>\n",
       "      <th>Maybe</th>\n",
       "      <th>No Replies</th>\n",
       "      <th>Total Invited</th>\n",
       "    </tr>\n",
       "  </thead>\n",
       "  <tbody>\n",
       "    <tr>\n",
       "      <th>0</th>\n",
       "      <td>0.768</td>\n",
       "      <td>0.768</td>\n",
       "      <td>0.676</td>\n",
       "      <td>0.866</td>\n",
       "    </tr>\n",
       "  </tbody>\n",
       "</table>\n",
       "</div>"
      ],
      "text/plain": [
       "   Interested  Maybe  No Replies  Total Invited\n",
       "0       0.768  0.768       0.676          0.866"
      ]
     },
     "execution_count": 20,
     "metadata": {},
     "output_type": "execute_result"
    }
   ],
   "source": [
    "corr_results = pd.DataFrame(dictionary_correlation, index=[0])\n",
    "corr_results.round(3) # round to 3 dp"
   ]
  },
  {
   "cell_type": "code",
   "execution_count": 23,
   "metadata": {
    "scrolled": false
   },
   "outputs": [],
   "source": [
    "# we ommit maybe_count because it turns out it is exactly the same as interested_count\n",
    "X = df[['interested_count','no_reply_count','total_invited_count']]\n",
    "y = df[['attendance_count']]"
   ]
  },
  {
   "cell_type": "code",
   "execution_count": 24,
   "metadata": {
    "scrolled": true
   },
   "outputs": [
    {
     "name": "stdout",
     "output_type": "stream",
     "text": [
      "                            OLS Regression Results                            \n",
      "==============================================================================\n",
      "Dep. Variable:       attendance_count   R-squared:                       1.000\n",
      "Model:                            OLS   Adj. R-squared:                  1.000\n",
      "Method:                 Least Squares   F-statistic:                 3.849e+30\n",
      "Date:                Mon, 12 Feb 2018   Prob (F-statistic):               0.00\n",
      "Time:                        14:20:10   Log-Likelihood:                 18036.\n",
      "No. Observations:                 694   AIC:                        -3.607e+04\n",
      "Df Residuals:                     691   BIC:                        -3.605e+04\n",
      "Df Model:                           3                                         \n",
      "Covariance Type:            nonrobust                                         \n",
      "=======================================================================================\n",
      "                          coef    std err          t      P>|t|      [0.025      0.975]\n",
      "---------------------------------------------------------------------------------------\n",
      "interested_count       -2.0000   1.47e-15  -1.36e+15      0.000      -2.000      -2.000\n",
      "no_reply_count         -1.0000   7.12e-16  -1.41e+15      0.000      -1.000      -1.000\n",
      "total_invited_count     1.0000   6.04e-16   1.66e+15      0.000       1.000       1.000\n",
      "==============================================================================\n",
      "Omnibus:                      690.113   Durbin-Watson:                   1.148\n",
      "Prob(Omnibus):                  0.000   Jarque-Bera (JB):            27983.690\n",
      "Skew:                          -4.594   Prob(JB):                         0.00\n",
      "Kurtosis:                      32.720   Cond. No.                         38.8\n",
      "==============================================================================\n",
      "\n",
      "Warnings:\n",
      "[1] Standard Errors assume that the covariance matrix of the errors is correctly specified.\n"
     ]
    }
   ],
   "source": [
    "import statsmodels.api as sm #using statsmodels as opposed to sklearn due to regression output\n",
    "\n",
    "model1 = sm.OLS(y, X)\n",
    "results1 = model1.fit()\n",
    "print(results1.summary())"
   ]
  },
  {
   "cell_type": "markdown",
   "metadata": {},
   "source": [
    "These results seem a little counter intuitive, there is an inverse relationship between the number of interested individuals and those that have clicked going -- maybe this has to do with the fact that people who click interested for the most part do not actually go to the events, they are 'potentials' but they do not ultimately make the decision to go. It is also a little strange that the coefficients are whole numbers, not sure if this is by chance or what we should we expect/if there is something weird going on here."
   ]
  },
  {
   "cell_type": "code",
   "execution_count": 25,
   "metadata": {},
   "outputs": [
    {
     "name": "stdout",
     "output_type": "stream",
     "text": [
      "                            OLS Regression Results                            \n",
      "==============================================================================\n",
      "Dep. Variable:       attendance_count   R-squared:                       0.763\n",
      "Model:                            OLS   Adj. R-squared:                  0.762\n",
      "Method:                 Least Squares   F-statistic:                     1113.\n",
      "Date:                Mon, 12 Feb 2018   Prob (F-statistic):          6.33e-217\n",
      "Time:                        14:20:17   Log-Likelihood:                -4014.8\n",
      "No. Observations:                 694   AIC:                             8034.\n",
      "Df Residuals:                     692   BIC:                             8043.\n",
      "Df Model:                           2                                         \n",
      "Covariance Type:            nonrobust                                         \n",
      "====================================================================================\n",
      "                       coef    std err          t      P>|t|      [0.025      0.975]\n",
      "------------------------------------------------------------------------------------\n",
      "interested_count     0.3813      0.019     20.415      0.000       0.345       0.418\n",
      "no_reply_count       0.1538      0.009     17.109      0.000       0.136       0.171\n",
      "==============================================================================\n",
      "Omnibus:                      389.978   Durbin-Watson:                   1.473\n",
      "Prob(Omnibus):                  0.000   Jarque-Bera (JB):             5440.673\n",
      "Skew:                           2.211   Prob(JB):                         0.00\n",
      "Kurtosis:                      15.985   Cond. No.                         3.19\n",
      "==============================================================================\n",
      "\n",
      "Warnings:\n",
      "[1] Standard Errors assume that the covariance matrix of the errors is correctly specified.\n"
     ]
    }
   ],
   "source": [
    "model2 = sm.OLS(y, df[['interested_count','no_reply_count']])\n",
    "results2 = model2.fit()\n",
    "print(results2.summary())"
   ]
  },
  {
   "cell_type": "markdown",
   "metadata": {},
   "source": [
    "When we exclude the total invited variable we see a positive relationship between both 'interested' and 'maybe' clickers.\n",
    "This suggests that it is not the ammount of people clicking interested that is driving people to these events, rather it is \n",
    "the more broadly, how many people have been invited. "
   ]
  },
  {
   "cell_type": "code",
   "execution_count": null,
   "metadata": {},
   "outputs": [],
   "source": []
  }
 ],
 "metadata": {
  "kernelspec": {
   "display_name": "Python 3",
   "language": "python",
   "name": "python3"
  },
  "language_info": {
   "codemirror_mode": {
    "name": "ipython",
    "version": 3
   },
   "file_extension": ".py",
   "mimetype": "text/x-python",
   "name": "python",
   "nbconvert_exporter": "python",
   "pygments_lexer": "ipython3",
   "version": "3.6.4"
  }
 },
 "nbformat": 4,
 "nbformat_minor": 2
}
